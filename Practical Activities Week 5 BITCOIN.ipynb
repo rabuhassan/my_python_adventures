{
 "cells": [
  {
   "cell_type": "markdown",
   "metadata": {},
   "source": [
    "### Week 5 Practical Activities"
   ]
  },
  {
   "cell_type": "markdown",
   "metadata": {},
   "source": [
    "# 5.2.4 Practical activity: Making a GET request to an API"
   ]
  },
  {
   "cell_type": "markdown",
   "metadata": {},
   "source": [
    "### Prepare Workstation"
   ]
  },
  {
   "cell_type": "code",
   "execution_count": 10,
   "metadata": {},
   "outputs": [],
   "source": [
    "# Import Libraries\n",
    "import requests\n",
    "import json\n",
    "import pandas as pd\n",
    "\n",
    "# Identify the URL's.\n",
    "BPI_URL = 'https://api.coindesk.com/v1/bpi/currentprice.json'\n",
    "USA_URL = 'https://datausa.io/api/data?drilldowns=Nation&measures=Population'"
   ]
  },
  {
   "cell_type": "markdown",
   "metadata": {},
   "source": [
    "## Bitcoin Price Index"
   ]
  },
  {
   "cell_type": "markdown",
   "metadata": {},
   "source": [
    "### 1. Request Access to Bitcoin Price Index"
   ]
  },
  {
   "cell_type": "code",
   "execution_count": 11,
   "metadata": {},
   "outputs": [
    {
     "name": "stdout",
     "output_type": "stream",
     "text": [
      "200\n"
     ]
    }
   ],
   "source": [
    "# Create a variable. \n",
    "response_BPI = requests.get(BPI_URL)\n",
    "\n",
    "# Print the status_code. \n",
    "print(response_BPI.status_code)"
   ]
  },
  {
   "cell_type": "markdown",
   "metadata": {},
   "source": [
    "### 2. Retrieve the headers of the API."
   ]
  },
  {
   "cell_type": "code",
   "execution_count": 12,
   "metadata": {},
   "outputs": [
    {
     "name": "stdout",
     "output_type": "stream",
     "text": [
      "{'Content-Type': 'application/javascript', 'Content-Length': '679', 'Connection': 'keep-alive', 'Access-Control-Allow-Origin': '*', 'Cache-Control': 'max-age=15', 'Date': 'Tue, 28 Jun 2022 19:46:29 GMT', 'Expires': 'Tue, 28 Jun 2022 19:47:07 UTC', 'Server': 'nginx/1.18.0', 'X-Powered-By': 'Fat-Free Framework', 'X-Cache': 'Hit from cloudfront', 'Via': '1.1 c21fdfe928c795c1f24f3b6117a48670.cloudfront.net (CloudFront)', 'X-Amz-Cf-Pop': 'BAH53-C1', 'X-Amz-Cf-Id': '5HiEcGlsuvSVnD1YXmSAwuqEPiQktkJiCs0_AZPLxWY-8CpMyeaYOw==', 'Age': '4'}\n"
     ]
    }
   ],
   "source": [
    "# HTTP headers.\n",
    "info_BPI = requests.head(BPI_URL)\n",
    "print(info_BPI.headers)"
   ]
  },
  {
   "cell_type": "markdown",
   "metadata": {},
   "source": [
    "### 3. Parce the JSON data and format it.  "
   ]
  },
  {
   "cell_type": "code",
   "execution_count": 28,
   "metadata": {},
   "outputs": [
    {
     "name": "stdout",
     "output_type": "stream",
     "text": [
      "<class 'dict'>\n",
      "{\n",
      "    \"time\": {\n",
      "        \"updated\": \"Jun 28, 2022 19:45:00 UTC\",\n",
      "        \"updatedISO\": \"2022-06-28T19:45:00+00:00\",\n",
      "        \"updateduk\": \"Jun 28, 2022 at 20:45 BST\"\n",
      "    },\n",
      "    \"disclaimer\": \"This data was produced from the CoinDesk Bitcoin Price Index (USD). Non-USD currency data converted using hourly conversion rate from openexchangerates.org\",\n",
      "    \"chartName\": \"Bitcoin\",\n",
      "    \"bpi\": {\n",
      "        \"USD\": {\n",
      "            \"code\": \"USD\",\n",
      "            \"symbol\": \"&#36;\",\n",
      "            \"rate\": \"20,273.3863\",\n",
      "            \"description\": \"United States Dollar\",\n",
      "            \"rate_float\": 20273.3863\n",
      "        },\n",
      "        \"GBP\": {\n",
      "            \"code\": \"GBP\",\n",
      "            \"symbol\": \"&pound;\",\n",
      "            \"rate\": \"16,460.3476\",\n",
      "            \"description\": \"British Pound Sterling\",\n",
      "            \"rate_float\": 16460.3476\n",
      "        },\n",
      "        \"EUR\": {\n",
      "            \"code\": \"EUR\",\n",
      "            \"symbol\": \"&euro;\",\n",
      "            \"rate\": \"19,271.2729\",\n",
      "            \"description\": \"Euro\",\n",
      "            \"rate_float\": 19271.2729\n",
      "        }\n",
      "    }\n",
      "}\n"
     ]
    }
   ],
   "source": [
    "# Parse JSON data with loads().\n",
    "content_BPI = json.loads(response_BPI.text)\n",
    "print(type(content_BPI))\n",
    "\n",
    "# Formatting JSON.\n",
    "print(json.dumps(content_BPI, indent=4))"
   ]
  },
  {
   "cell_type": "markdown",
   "metadata": {},
   "source": [
    "### 4. Create a Pandas Dataframe & Save CSV / JSON"
   ]
  },
  {
   "cell_type": "code",
   "execution_count": 21,
   "metadata": {},
   "outputs": [
    {
     "data": {
      "text/html": [
       "<div>\n",
       "<style scoped>\n",
       "    .dataframe tbody tr th:only-of-type {\n",
       "        vertical-align: middle;\n",
       "    }\n",
       "\n",
       "    .dataframe tbody tr th {\n",
       "        vertical-align: top;\n",
       "    }\n",
       "\n",
       "    .dataframe thead th {\n",
       "        text-align: right;\n",
       "    }\n",
       "</style>\n",
       "<table border=\"1\" class=\"dataframe\">\n",
       "  <thead>\n",
       "    <tr style=\"text-align: right;\">\n",
       "      <th></th>\n",
       "      <th>time</th>\n",
       "      <th>disclaimer</th>\n",
       "      <th>chartName</th>\n",
       "      <th>bpi</th>\n",
       "    </tr>\n",
       "  </thead>\n",
       "  <tbody>\n",
       "    <tr>\n",
       "      <th>EUR</th>\n",
       "      <td>NaN</td>\n",
       "      <td>This data was produced from the CoinDesk Bitco...</td>\n",
       "      <td>Bitcoin</td>\n",
       "      <td>{'code': 'EUR', 'symbol': '&amp;euro;', 'rate': '1...</td>\n",
       "    </tr>\n",
       "    <tr>\n",
       "      <th>GBP</th>\n",
       "      <td>NaN</td>\n",
       "      <td>This data was produced from the CoinDesk Bitco...</td>\n",
       "      <td>Bitcoin</td>\n",
       "      <td>{'code': 'GBP', 'symbol': '&amp;pound;', 'rate': '...</td>\n",
       "    </tr>\n",
       "    <tr>\n",
       "      <th>USD</th>\n",
       "      <td>NaN</td>\n",
       "      <td>This data was produced from the CoinDesk Bitco...</td>\n",
       "      <td>Bitcoin</td>\n",
       "      <td>{'code': 'USD', 'symbol': '&amp;#36;', 'rate': '20...</td>\n",
       "    </tr>\n",
       "    <tr>\n",
       "      <th>updated</th>\n",
       "      <td>Jun 28, 2022 19:45:00 UTC</td>\n",
       "      <td>This data was produced from the CoinDesk Bitco...</td>\n",
       "      <td>Bitcoin</td>\n",
       "      <td>NaN</td>\n",
       "    </tr>\n",
       "    <tr>\n",
       "      <th>updatedISO</th>\n",
       "      <td>2022-06-28T19:45:00+00:00</td>\n",
       "      <td>This data was produced from the CoinDesk Bitco...</td>\n",
       "      <td>Bitcoin</td>\n",
       "      <td>NaN</td>\n",
       "    </tr>\n",
       "  </tbody>\n",
       "</table>\n",
       "</div>"
      ],
      "text/plain": [
       "                                 time  \\\n",
       "EUR                               NaN   \n",
       "GBP                               NaN   \n",
       "USD                               NaN   \n",
       "updated     Jun 28, 2022 19:45:00 UTC   \n",
       "updatedISO  2022-06-28T19:45:00+00:00   \n",
       "\n",
       "                                                   disclaimer chartName  \\\n",
       "EUR         This data was produced from the CoinDesk Bitco...   Bitcoin   \n",
       "GBP         This data was produced from the CoinDesk Bitco...   Bitcoin   \n",
       "USD         This data was produced from the CoinDesk Bitco...   Bitcoin   \n",
       "updated     This data was produced from the CoinDesk Bitco...   Bitcoin   \n",
       "updatedISO  This data was produced from the CoinDesk Bitco...   Bitcoin   \n",
       "\n",
       "                                                          bpi  \n",
       "EUR         {'code': 'EUR', 'symbol': '&euro;', 'rate': '1...  \n",
       "GBP         {'code': 'GBP', 'symbol': '&pound;', 'rate': '...  \n",
       "USD         {'code': 'USD', 'symbol': '&#36;', 'rate': '20...  \n",
       "updated                                                   NaN  \n",
       "updatedISO                                                NaN  "
      ]
     },
     "execution_count": 21,
     "metadata": {},
     "output_type": "execute_result"
    }
   ],
   "source": [
    "# Create and view the DataFrame. \n",
    "BPI = pd.DataFrame(content_BPI)\n",
    "BPI.head()"
   ]
  },
  {
   "cell_type": "code",
   "execution_count": 25,
   "metadata": {},
   "outputs": [],
   "source": [
    "# Save the JSON file to .json.\n",
    "\n",
    "# Create a JSON file.\n",
    "bitcoin_json = json.dumps(content_BPI)\n",
    "\n",
    "with open('bitcoin_json.json', 'w') as f:\n",
    "    json.dump(content_BPI, f)\n",
    "    \n",
    "# Save as a CSV file without index.\n",
    "pd.read_json(bitcoin_json).to_csv('bitcoin_csv.csv', index=False)"
   ]
  },
  {
   "cell_type": "markdown",
   "metadata": {},
   "source": [
    "## USA Population Data"
   ]
  },
  {
   "cell_type": "markdown",
   "metadata": {},
   "source": [
    "### 1. Request Access to USA Population Data"
   ]
  },
  {
   "cell_type": "code",
   "execution_count": 26,
   "metadata": {},
   "outputs": [
    {
     "name": "stdout",
     "output_type": "stream",
     "text": [
      "200\n"
     ]
    }
   ],
   "source": [
    "# Create a variable. \n",
    "response_USA = requests.get(USA_URL)\n",
    "\n",
    "# Print the status_code. \n",
    "print(response_USA.status_code)"
   ]
  },
  {
   "cell_type": "markdown",
   "metadata": {},
   "source": [
    "### 2. Retrieve the headers of the API."
   ]
  },
  {
   "cell_type": "code",
   "execution_count": 27,
   "metadata": {},
   "outputs": [
    {
     "name": "stdout",
     "output_type": "stream",
     "text": [
      "{'Date': 'Tue, 28 Jun 2022 20:07:02 GMT', 'Content-Type': 'application/json; charset=utf-8', 'Connection': 'keep-alive', 'x-dns-prefetch-control': 'off', 'strict-transport-security': 'max-age=15552000; includeSubDomains', 'x-download-options': 'noopen', 'x-content-type-options': 'nosniff', 'x-xss-protection': '1; mode=block', 'content-language': 'en', 'etag': 'W/\"55b-jEIUyvQphH/gM3DVlQl2pEdoLeo\"', 'vary': 'Accept-Encoding', 'Content-Encoding': 'gzip', 'last-modified': 'Mon, 02 May 2022 17:25:47 GMT', 'x-cache-status': 'HIT', 'x-frame-options': 'SAMEORIGIN', 'access-control-allow-origin': '*', 'access-control-allow-credentials': 'true', 'access-control-allow-methods': 'GET, POST, OPTIONS', 'access-control-allow-headers': 'DNT,X-CustomHeader,Keep-Alive,User-Agent,X-Requested-With,If-Modified-Since,Cache-Control,Content-Type', 'x-cache-key': 'GET/api/data?drilldowns=Nation&measures=Population', 'Cache-Control': 'max-age=1800', 'CF-Cache-Status': 'HIT', 'Age': '55', 'Expect-CT': 'max-age=604800, report-uri=\"https://report-uri.cloudflare.com/cdn-cgi/beacon/expect-ct\"', 'Report-To': '{\"endpoints\":[{\"url\":\"https:\\\\/\\\\/a.nel.cloudflare.com\\\\/report\\\\/v3?s=hVo%2FGnfXZEQBk0DA3AiyKmtABkYvoz8P%2BsXVnZ8qYAvKn%2FDBWZIvnSG0nt07YO5CHREn9QixcK0e%2BcwuFKEu2IhuLpAJotA7JJa%2F8e0OULDOzn8i%2B1fWIqesss0%3D\"}],\"group\":\"cf-nel\",\"max_age\":604800}', 'NEL': '{\"success_fraction\":0,\"report_to\":\"cf-nel\",\"max_age\":604800}', 'Server': 'cloudflare', 'CF-RAY': '72290bddb806c474-BAH'}\n"
     ]
    }
   ],
   "source": [
    "# HTTP headers.\n",
    "info_USA = requests.head(USA_URL)\n",
    "print(info_USA.headers)"
   ]
  },
  {
   "cell_type": "markdown",
   "metadata": {},
   "source": [
    "### 3. Parce the JSON data and format it.  "
   ]
  },
  {
   "cell_type": "code",
   "execution_count": 30,
   "metadata": {},
   "outputs": [
    {
     "name": "stdout",
     "output_type": "stream",
     "text": [
      "<class 'dict'>\n",
      "{\n",
      "    \"data\": [\n",
      "        {\n",
      "            \"ID Nation\": \"01000US\",\n",
      "            \"Nation\": \"United States\",\n",
      "            \"ID Year\": 2019,\n",
      "            \"Year\": \"2019\",\n",
      "            \"Population\": 328239523,\n",
      "            \"Slug Nation\": \"united-states\"\n",
      "        },\n",
      "        {\n",
      "            \"ID Nation\": \"01000US\",\n",
      "            \"Nation\": \"United States\",\n",
      "            \"ID Year\": 2018,\n",
      "            \"Year\": \"2018\",\n",
      "            \"Population\": 327167439,\n",
      "            \"Slug Nation\": \"united-states\"\n",
      "        },\n",
      "        {\n",
      "            \"ID Nation\": \"01000US\",\n",
      "            \"Nation\": \"United States\",\n",
      "            \"ID Year\": 2017,\n",
      "            \"Year\": \"2017\",\n",
      "            \"Population\": 325719178,\n",
      "            \"Slug Nation\": \"united-states\"\n",
      "        },\n",
      "        {\n",
      "            \"ID Nation\": \"01000US\",\n",
      "            \"Nation\": \"United States\",\n",
      "            \"ID Year\": 2016,\n",
      "            \"Year\": \"2016\",\n",
      "            \"Population\": 323127515,\n",
      "            \"Slug Nation\": \"united-states\"\n",
      "        },\n",
      "        {\n",
      "            \"ID Nation\": \"01000US\",\n",
      "            \"Nation\": \"United States\",\n",
      "            \"ID Year\": 2015,\n",
      "            \"Year\": \"2015\",\n",
      "            \"Population\": 321418821,\n",
      "            \"Slug Nation\": \"united-states\"\n",
      "        },\n",
      "        {\n",
      "            \"ID Nation\": \"01000US\",\n",
      "            \"Nation\": \"United States\",\n",
      "            \"ID Year\": 2014,\n",
      "            \"Year\": \"2014\",\n",
      "            \"Population\": 318857056,\n",
      "            \"Slug Nation\": \"united-states\"\n",
      "        },\n",
      "        {\n",
      "            \"ID Nation\": \"01000US\",\n",
      "            \"Nation\": \"United States\",\n",
      "            \"ID Year\": 2013,\n",
      "            \"Year\": \"2013\",\n",
      "            \"Population\": 316128839,\n",
      "            \"Slug Nation\": \"united-states\"\n",
      "        }\n",
      "    ],\n",
      "    \"source\": [\n",
      "        {\n",
      "            \"measures\": [\n",
      "                \"Population\"\n",
      "            ],\n",
      "            \"annotations\": {\n",
      "                \"source_name\": \"Census Bureau\",\n",
      "                \"source_description\": \"The American Community Survey (ACS) is conducted by the US Census and sent to a portion of the population every year.\",\n",
      "                \"dataset_name\": \"ACS 1-year Estimate\",\n",
      "                \"dataset_link\": \"http://www.census.gov/programs-surveys/acs/\",\n",
      "                \"table_id\": \"B01003\",\n",
      "                \"topic\": \"Diversity\",\n",
      "                \"subtopic\": \"Demographics\"\n",
      "            },\n",
      "            \"name\": \"acs_yg_total_population_1\",\n",
      "            \"substitutions\": []\n",
      "        }\n",
      "    ]\n",
      "}\n"
     ]
    }
   ],
   "source": [
    "# Parse JSON data with loads().\n",
    "content_USA = json.loads(response_USA.text)\n",
    "print(type(content_USA))\n",
    "\n",
    "# Formatting JSON.\n",
    "print(json.dumps(content_USA, indent=4))"
   ]
  },
  {
   "cell_type": "code",
   "execution_count": null,
   "metadata": {},
   "outputs": [],
   "source": []
  }
 ],
 "metadata": {
  "kernelspec": {
   "display_name": "Python 3",
   "language": "python",
   "name": "python3"
  },
  "language_info": {
   "codemirror_mode": {
    "name": "ipython",
    "version": 3
   },
   "file_extension": ".py",
   "mimetype": "text/x-python",
   "name": "python",
   "nbconvert_exporter": "python",
   "pygments_lexer": "ipython3",
   "version": "3.7.3"
  }
 },
 "nbformat": 4,
 "nbformat_minor": 2
}
