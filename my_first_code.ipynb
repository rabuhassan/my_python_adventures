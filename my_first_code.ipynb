{
 "cells": [
  {
   "cell_type": "markdown",
   "metadata": {},
   "source": [
    "# 1.2.5 Practical activity \n",
    "## Write your first line of code"
   ]
  },
  {
   "cell_type": "code",
   "execution_count": 1,
   "metadata": {},
   "outputs": [
    {
     "data": {
      "text/plain": [
       "'Using the data table provided by Lindstrom & Thomos, find: \\n    - find the total sales for the month\\n    - calculate the average sales price for the month \\n    - find the missing value from the last column of the table.\\n    '"
      ]
     },
     "execution_count": 1,
     "metadata": {},
     "output_type": "execute_result"
    }
   ],
   "source": [
    "\"\"\"Using the data table provided by Lindstrom & Thomos, find: \n",
    "    - find the total sales for the month\n",
    "    - calculate the average sales price for the month \n",
    "    - find the missing value from the last column of the table.\n",
    "    \"\"\""
   ]
  },
  {
   "cell_type": "code",
   "execution_count": 2,
   "metadata": {},
   "outputs": [
    {
     "name": "stdout",
     "output_type": "stream",
     "text": [
      "My name is Rachid Abu-Hassan\n",
      "The date is June 1, 2022\n"
     ]
    }
   ],
   "source": [
    "# This is my first line of code. \n",
    "print(\"My name is Rachid Abu-Hassan\")\n",
    "print(\"The date is June 1, 2022\")"
   ]
  },
  {
   "cell_type": "code",
   "execution_count": 3,
   "metadata": {},
   "outputs": [],
   "source": [
    "#Write a program to analyse real estate data\n",
    "# Sales prices for the properties. \n",
    "A = 45000\n",
    "B = 23400\n",
    "C = 67000\n",
    "D = 34600\n",
    "E = 12900"
   ]
  },
  {
   "cell_type": "code",
   "execution_count": 11,
   "metadata": {},
   "outputs": [
    {
     "name": "stdout",
     "output_type": "stream",
     "text": [
      "The Total Sales for the Month of December is: 182900\n",
      "The Average Sales Price for the Month of December is: 36580.0\n",
      "The Price of Property C is: 60500\n"
     ]
    }
   ],
   "source": [
    "Total_Sales = A + B + C + D + E\n",
    "Average = Total_Sales/5\n",
    "Price_C = C - 6500\n",
    "\n",
    "print(\"The Total Sales for the Month of December is:\", Total_Sales)\n",
    "print(\"The Average Sales Price for the Month of December is:\", Average)\n",
    "print(\"The Price of Property C is:\", Price_C)"
   ]
  },
  {
   "cell_type": "code",
   "execution_count": null,
   "metadata": {},
   "outputs": [],
   "source": []
  }
 ],
 "metadata": {
  "kernelspec": {
   "display_name": "Python 3",
   "language": "python",
   "name": "python3"
  },
  "language_info": {
   "codemirror_mode": {
    "name": "ipython",
    "version": 3
   },
   "file_extension": ".py",
   "mimetype": "text/x-python",
   "name": "python",
   "nbconvert_exporter": "python",
   "pygments_lexer": "ipython3",
   "version": "3.7.3"
  }
 },
 "nbformat": 4,
 "nbformat_minor": 2
}
