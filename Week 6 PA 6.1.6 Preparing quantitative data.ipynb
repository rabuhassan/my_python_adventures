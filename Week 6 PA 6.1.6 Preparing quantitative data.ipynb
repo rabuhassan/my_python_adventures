{
 "cells": [
  {
   "cell_type": "markdown",
   "id": "938ac56b",
   "metadata": {},
   "source": [
    "## Week 6 Practical Activities"
   ]
  },
  {
   "cell_type": "markdown",
   "id": "a127e674",
   "metadata": {},
   "source": [
    "# 6.1.6 Practical activity: Preparing quantitative data "
   ]
  },
  {
   "cell_type": "markdown",
   "id": "da296f9d",
   "metadata": {},
   "source": [
    "The Objective of this activity is to: \n",
    "\n",
    "1. set up the workspace\n",
    "2. get to know the data\n",
    "3. define sub-data sets\n",
    "4. detect outliers\n",
    "5. remove outliers.\n"
   ]
  },
  {
   "cell_type": "markdown",
   "id": "28dd90aa",
   "metadata": {},
   "source": [
    "## 1. Prepare Workstation"
   ]
  },
  {
   "cell_type": "code",
   "execution_count": 1,
   "id": "168c22c6",
   "metadata": {},
   "outputs": [],
   "source": [
    "# Import libraries.\n",
    "import numpy as np\n",
    "import pandas as pd\n",
    "import matplotlib.pyplot as plt\n",
    "import seaborn as sns\n",
    "sns.set()\n",
    "\n",
    "from sklearn.metrics import r2_score, median_absolute_error, mean_absolute_error\n",
    "from sklearn.metrics import median_absolute_error, mean_squared_error, mean_squared_log_error\n",
    "\n",
    "import warnings\n",
    "warnings.filterwarnings('ignore')\n",
    "\n",
    "%matplotlib inline\n",
    "\n",
    "# Get multiple outputs in the same cell.\n",
    "from IPython.core.interactiveshell import InteractiveShell\n",
    "InteractiveShell.ast_node_interactivity = 'all'\n"
   ]
  },
  {
   "cell_type": "code",
   "execution_count": 6,
   "id": "06ca5abe",
   "metadata": {},
   "outputs": [
    {
     "name": "stdout",
     "output_type": "stream",
     "text": [
      "(29580, 4)\n"
     ]
    },
    {
     "data": {
      "text/html": [
       "<div>\n",
       "<style scoped>\n",
       "    .dataframe tbody tr th:only-of-type {\n",
       "        vertical-align: middle;\n",
       "    }\n",
       "\n",
       "    .dataframe tbody tr th {\n",
       "        vertical-align: top;\n",
       "    }\n",
       "\n",
       "    .dataframe thead th {\n",
       "        text-align: right;\n",
       "    }\n",
       "</style>\n",
       "<table border=\"1\" class=\"dataframe\">\n",
       "  <thead>\n",
       "    <tr style=\"text-align: right;\">\n",
       "      <th></th>\n",
       "      <th>postcode</th>\n",
       "      <th>price</th>\n",
       "      <th>propertyType</th>\n",
       "      <th>bedrooms</th>\n",
       "    </tr>\n",
       "    <tr>\n",
       "      <th>datesold</th>\n",
       "      <th></th>\n",
       "      <th></th>\n",
       "      <th></th>\n",
       "      <th></th>\n",
       "    </tr>\n",
       "  </thead>\n",
       "  <tbody>\n",
       "    <tr>\n",
       "      <th>2007-02-07</th>\n",
       "      <td>2607</td>\n",
       "      <td>525000</td>\n",
       "      <td>house</td>\n",
       "      <td>4</td>\n",
       "    </tr>\n",
       "    <tr>\n",
       "      <th>2007-02-27</th>\n",
       "      <td>2906</td>\n",
       "      <td>290000</td>\n",
       "      <td>house</td>\n",
       "      <td>3</td>\n",
       "    </tr>\n",
       "    <tr>\n",
       "      <th>2007-03-07</th>\n",
       "      <td>2905</td>\n",
       "      <td>328000</td>\n",
       "      <td>house</td>\n",
       "      <td>3</td>\n",
       "    </tr>\n",
       "    <tr>\n",
       "      <th>2007-03-09</th>\n",
       "      <td>2905</td>\n",
       "      <td>380000</td>\n",
       "      <td>house</td>\n",
       "      <td>4</td>\n",
       "    </tr>\n",
       "    <tr>\n",
       "      <th>2007-03-21</th>\n",
       "      <td>2906</td>\n",
       "      <td>310000</td>\n",
       "      <td>house</td>\n",
       "      <td>3</td>\n",
       "    </tr>\n",
       "  </tbody>\n",
       "</table>\n",
       "</div>"
      ],
      "text/plain": [
       "            postcode   price propertyType  bedrooms\n",
       "datesold                                           \n",
       "2007-02-07      2607  525000        house         4\n",
       "2007-02-27      2906  290000        house         3\n",
       "2007-03-07      2905  328000        house         3\n",
       "2007-03-09      2905  380000        house         4\n",
       "2007-03-21      2906  310000        house         3"
      ]
     },
     "execution_count": 6,
     "metadata": {},
     "output_type": "execute_result"
    }
   ],
   "source": [
    "# Import the csv file and create the DataFrame.\n",
    "data = pd.read_csv('raw_sales.csv', index_col=['datesold'], \\\n",
    "                   parse_dates =['datesold'])\n",
    "\n",
    "#View the DataFrame\n",
    "print(data.shape)\n",
    "data.head()\n",
    "\n"
   ]
  },
  {
   "cell_type": "markdown",
   "id": "f5e7796c",
   "metadata": {},
   "source": [
    "## 2. Get to know the data "
   ]
  },
  {
   "cell_type": "code",
   "execution_count": 7,
   "id": "5db8006b",
   "metadata": {
    "scrolled": true
   },
   "outputs": [
    {
     "data": {
      "text/plain": [
       "<AxesSubplot:xlabel='datesold'>"
      ]
     },
     "execution_count": 7,
     "metadata": {},
     "output_type": "execute_result"
    },
    {
     "data": {
      "text/plain": [
       "<matplotlib.legend.Legend at 0x7ff075ca6c10>"
      ]
     },
     "execution_count": 7,
     "metadata": {},
     "output_type": "execute_result"
    },
    {
     "data": {
      "text/plain": [
       "Text(0.5, 1.0, 'Housing Prices')"
      ]
     },
     "execution_count": 7,
     "metadata": {},
     "output_type": "execute_result"
    },
    {
     "data": {
      "image/png": "[encoded data removed]",
      "text/plain": [
       "<Figure size 864x288 with 1 Axes>"
      ]
     },
     "metadata": {
      "needs_background": "light"
     },
     "output_type": "display_data"
    },
    {
     "data": {
      "text/plain": [
       "postcode        0\n",
       "price           0\n",
       "propertyType    0\n",
       "bedrooms        0\n",
       "dtype: int64"
      ]
     },
     "execution_count": 7,
     "metadata": {},
     "output_type": "execute_result"
    }
   ],
   "source": [
    "# Plot the house prices as a time series.\n",
    "# Plot the size.\n",
    "data.plot(figsize=(12, 4))\n",
    "\n",
    "# Specify the legend and title of the plot.\n",
    "plt.legend(loc='best')\n",
    "plt.title('Housing Prices')\n",
    "plt.show(block=False);\n",
    "\n",
    "# Check for missing values.\n",
    "data.isna().sum()"
   ]
  },
  {
   "cell_type": "code",
   "execution_count": 8,
   "id": "851d2be0",
   "metadata": {},
   "outputs": [
    {
     "name": "stdout",
     "output_type": "stream",
     "text": [
      "3    11933\n",
      "4    10442\n",
      "2     3598\n",
      "5     1950\n",
      "1     1627\n",
      "0       30\n",
      "Name: bedrooms, dtype: int64\n"
     ]
    },
    {
     "data": {
      "text/plain": [
       "Text(0.5, 1.0, 'Count of number of bedrooms')"
      ]
     },
     "execution_count": 8,
     "metadata": {},
     "output_type": "execute_result"
    },
    {
     "data": {
      "text/plain": [
       "<AxesSubplot:title={'center':'Count of number of bedrooms'}, xlabel='bedrooms', ylabel='count'>"
      ]
     },
     "execution_count": 8,
     "metadata": {},
     "output_type": "execute_result"
    },
    {
     "data": {
      "image/png": "[encoded data removed]",
      "text/plain": [
       "<Figure size 432x288 with 1 Axes>"
      ]
     },
     "metadata": {
      "needs_background": "light"
     },
     "output_type": "display_data"
    }
   ],
   "source": [
    "# Count the number of values in a specified column of the DataFrame.\n",
    "print(data['bedrooms'].value_counts())\n",
    "\n",
    "# Create a plot.\n",
    "plt.title('Count of number of bedrooms')\n",
    "\n",
    "sns.despine(left=True);\n",
    "sns.countplot(x='bedrooms', data=data)"
   ]
  },
  {
   "cell_type": "markdown",
   "id": "70c4de4d",
   "metadata": {},
   "source": [
    "## 3. Create a subset"
   ]
  },
  {
   "cell_type": "code",
   "execution_count": 9,
   "id": "219b9716",
   "metadata": {},
   "outputs": [
    {
     "name": "stdout",
     "output_type": "stream",
     "text": [
      "(1627, 4)\n",
      "(3598, 4)\n",
      "(11933, 4)\n",
      "(10442, 4)\n",
      "(1950, 4)\n"
     ]
    }
   ],
   "source": [
    "# Create a copy of the original data for convinience.\n",
    "data_sub = data.copy()\n",
    "\n",
    "\n",
    "# Data set cosnsisting of houses with 1 bedroom: \n",
    "df_1 = data_sub[data_sub['bedrooms']==1]\n",
    "print(df_1.shape)\n",
    "\n",
    "\n",
    "# Data set cosnsisting of houses with 2 bedrooms: \n",
    "df_2 = data_sub[data_sub['bedrooms']==2]\n",
    "print(df_2.shape)\n",
    "\n",
    "\n",
    "# Data set cosnsisting of houses with 3 bedrooms: \n",
    "df_3 = data_sub[data_sub['bedrooms']==3]\n",
    "print(df_3.shape)\n",
    "\n",
    "\n",
    "# Data set cosnsisting of houses with 4 bedrooms: \n",
    "df_4 = data_sub[data_sub['bedrooms']==4]\n",
    "print(df_4.shape)\n",
    "\n",
    "\n",
    "# Data set cosnsisting of houses with 5 bedrooms: \n",
    "df_5 = data_sub[data_sub['bedrooms']==5]\n",
    "print(df_5.shape)"
   ]
  },
  {
   "cell_type": "markdown",
   "id": "aeb091ea",
   "metadata": {},
   "source": [
    "## 4. Detect outliers"
   ]
  },
  {
   "cell_type": "code",
   "execution_count": 12,
   "id": "e6c1f936",
   "metadata": {},
   "outputs": [
    {
     "data": {
      "text/plain": [
       "(array([613., 982.,  27.,   2.,   1.,   0.,   1.,   0.,   0.,   1.]),\n",
       " array([  85000.,  304500.,  524000.,  743500.,  963000., 1182500.,\n",
       "        1402000., 1621500., 1841000., 2060500., 2280000.]),\n",
       " <BarContainer object of 10 artists>)"
      ]
     },
     "execution_count": 12,
     "metadata": {},
     "output_type": "execute_result"
    },
    {
     "data": {
      "text/plain": [
       "(array([1.526e+03, 1.846e+03, 1.950e+02, 2.300e+01, 6.000e+00, 0.000e+00,\n",
       "        0.000e+00, 0.000e+00, 1.000e+00, 1.000e+00]),\n",
       " array([  96000.,  391400.,  686800.,  982200., 1277600., 1573000.,\n",
       "        1868400., 2163800., 2459200., 2754600., 3050000.]),\n",
       " <BarContainer object of 10 artists>)"
      ]
     },
     "execution_count": 12,
     "metadata": {},
     "output_type": "execute_result"
    },
    {
     "data": {
      "text/plain": [
       "(array([1.0209e+04, 1.6280e+03, 8.4000e+01, 8.0000e+00, 1.0000e+00,\n",
       "        0.0000e+00, 2.0000e+00, 0.0000e+00, 0.0000e+00, 1.0000e+00]),\n",
       " array([  69000.,  710100., 1351200., 1992300., 2633400., 3274500.,\n",
       "        3915600., 4556700., 5197800., 5838900., 6480000.]),\n",
       " <BarContainer object of 10 artists>)"
      ]
     },
     "execution_count": 12,
     "metadata": {},
     "output_type": "execute_result"
    },
    {
     "data": {
      "text/plain": [
       "(array([8.528e+03, 1.767e+03, 1.260e+02, 1.600e+01, 1.000e+00, 2.000e+00,\n",
       "        1.000e+00, 0.000e+00, 0.000e+00, 1.000e+00]),\n",
       " array([  56500.,  850850., 1645200., 2439550., 3233900., 4028250.,\n",
       "        4822600., 5616950., 6411300., 7205650., 8000000.]),\n",
       " <BarContainer object of 10 artists>)"
      ]
     },
     "execution_count": 12,
     "metadata": {},
     "output_type": "execute_result"
    },
    {
     "data": {
      "text/plain": [
       "(array([1.289e+03, 5.590e+02, 7.400e+01, 1.700e+01, 7.000e+00, 1.000e+00,\n",
       "        1.000e+00, 1.000e+00, 0.000e+00, 1.000e+00]),\n",
       " array([ 210000.,  919000., 1628000., 2337000., 3046000., 3755000.,\n",
       "        4464000., 5173000., 5882000., 6591000., 7300000.]),\n",
       " <BarContainer object of 10 artists>)"
      ]
     },
     "execution_count": 12,
     "metadata": {},
     "output_type": "execute_result"
    },
    {
     "data": {
      "image/png": "[encoded data removed]",
      "text/plain": [
       "<Figure size 1440x1440 with 5 Axes>"
      ]
     },
     "metadata": {
      "needs_background": "light"
     },
     "output_type": "display_data"
    }
   ],
   "source": [
    "# Set the plot size.\n",
    "fig, axes = plt.subplots(nrows=3, ncols=2,figsize=(20,20))\n",
    "\n",
    "# 1 bedroom:\n",
    "axes[0][0].hist(df_1['price'])\n",
    "axes[0][0].title.set_text('1 bedroom price histogram')\n",
    "\n",
    "# 2 bedroom:\n",
    "axes[0][1].hist(df_2['price'])\n",
    "axes[0][1].title.set_text('2 bedroom price histogram')\n",
    "\n",
    "# 3 bedroom:\n",
    "axes[1][0].hist(df_3['price'])\n",
    "axes[1][0].title.set_text('3 bedroom price histogram')\n",
    "\n",
    "# 4 bedroom\n",
    "axes[1][1].hist(df_4['price'])\n",
    "axes[1][1].title.set_text('4 bedroom price histogram')\n",
    "\n",
    "# 5 bedroom:\n",
    "axes[2][0].hist(df_5['price'])\n",
    "axes[2][0].title.set_text('5 bedroom price histogram')\n",
    "\n",
    "\n",
    "fig.delaxes(axes[2][1])\n",
    "\n",
    "plt.show()"
   ]
  },
  {
   "cell_type": "markdown",
   "id": "b68b3f61",
   "metadata": {},
   "source": [
    "### 1-bedroom"
   ]
  },
  {
   "cell_type": "code",
   "execution_count": 17,
   "id": "0e01a547",
   "metadata": {},
   "outputs": [
    {
     "data": {
      "image/png": "[encoded data removed]",
      "text/plain": [
       "<Figure size 1296x288 with 1 Axes>"
      ]
     },
     "metadata": {
      "needs_background": "light"
     },
     "output_type": "display_data"
    }
   ],
   "source": [
    "# Create a boxplot for 1 bedroom.\n",
    "# Set figure size.\n",
    "fig = plt.figure(figsize=(18, 4))\n",
    "\n",
    "# Create a boxplot.\n",
    "ax = sns.boxplot(x=df_1['price'], whis=1.5)"
   ]
  },
  {
   "cell_type": "code",
   "execution_count": 14,
   "id": "4b6dfa22",
   "metadata": {},
   "outputs": [
    {
     "data": {
      "text/plain": [
       "price    100250.0\n",
       "dtype: float64"
      ]
     },
     "execution_count": 14,
     "metadata": {},
     "output_type": "execute_result"
    },
    {
     "data": {
      "text/plain": [
       "(1592, 4)"
      ]
     },
     "execution_count": 14,
     "metadata": {},
     "output_type": "execute_result"
    }
   ],
   "source": [
    "# The columns you want to search for outliers in.\n",
    "cols = ['price'] \n",
    "\n",
    "# Calculate quantiles and IQR.\n",
    "# Same as np.percentile but maps (0,1) and not (0,100).\n",
    "Q1 = df_1[cols].quantile(0.25) \n",
    "Q3 = df_1[cols].quantile(0.75)\n",
    "IQR = Q3 - Q1\n",
    "IQR\n",
    "\n",
    "# Return a Boolean array of the rows with (any) non-outlier column values.\n",
    "condition = ~((df_1[cols] < (Q1 - 1.5 * IQR)) | (df_1[cols] > (Q3 + 1.5 * IQR))).any(axis=1)\n",
    "\n",
    "# Filter our DataFrame based on condition.\n",
    "df_1_non_outlier = df_1[condition]\n",
    "df_1_non_outlier.shape"
   ]
  },
  {
   "cell_type": "code",
   "execution_count": 26,
   "id": "f3fd3ec0",
   "metadata": {},
   "outputs": [
    {
     "data": {
      "image/png": "[encoded data removed]",
      "text/plain": [
       "<Figure size 864x144 with 1 Axes>"
      ]
     },
     "metadata": {
      "needs_background": "light"
     },
     "output_type": "display_data"
    }
   ],
   "source": [
    "# Plot to see if outliers have been removed: \n",
    "# whis=multiplicative factor.\n",
    "fig = plt.subplots(figsize=(12, 2))\n",
    "\n",
    "ax = sns.boxplot(x=df_1_non_outlier['price'],whis=1.5)"
   ]
  },
  {
   "cell_type": "markdown",
   "id": "8c47faa0",
   "metadata": {},
   "source": [
    "### 2-bedrooms"
   ]
  },
  {
   "cell_type": "code",
   "execution_count": 34,
   "id": "a36013bc",
   "metadata": {},
   "outputs": [
    {
     "data": {
      "image/png": "[encoded data removed]",
      "text/plain": [
       "<Figure size 1296x288 with 1 Axes>"
      ]
     },
     "metadata": {
      "needs_background": "light"
     },
     "output_type": "display_data"
    }
   ],
   "source": [
    "# Create a boxplot for 2 bedroom.\n",
    "# Set figure size.\n",
    "fig = plt.figure(figsize=(18, 4))\n",
    "\n",
    "# Create a boxplot.\n",
    "ax = sns.boxplot(x=df_2['price'], whis=1.5)"
   ]
  },
  {
   "cell_type": "code",
   "execution_count": 22,
   "id": "99be81a2",
   "metadata": {
    "scrolled": true
   },
   "outputs": [
    {
     "data": {
      "text/plain": [
       "price    140000.0\n",
       "dtype: float64"
      ]
     },
     "execution_count": 22,
     "metadata": {},
     "output_type": "execute_result"
    },
    {
     "data": {
      "text/plain": [
       "(3387, 4)"
      ]
     },
     "execution_count": 22,
     "metadata": {},
     "output_type": "execute_result"
    }
   ],
   "source": [
    "# The columns you want to search for outliers in.\n",
    "cols = ['price'] \n",
    "\n",
    "# Calculate quantiles and IQR.\n",
    "# Same as np.percentile but maps (0,1) and not (0,100).\n",
    "Q1 = df_2[cols].quantile(0.25) \n",
    "Q3 = df_2[cols].quantile(0.75)\n",
    "IQR = Q3 - Q1\n",
    "IQR\n",
    "\n",
    "# Return a Boolean array of the rows with (any) non-outlier column values.\n",
    "condition = ~((df_2[cols] < (Q1 - 1.5 * IQR)) | (df_2[cols] > (Q3 + 1.5 * IQR))).any(axis=1)\n",
    "\n",
    "# Filter our DataFrame based on condition.\n",
    "df_2_non_outlier = df_2[condition]\n",
    "df_2_non_outlier.shape"
   ]
  },
  {
   "cell_type": "code",
   "execution_count": 27,
   "id": "5fa14af2",
   "metadata": {},
   "outputs": [
    {
     "data": {
      "image/png": "[encoded data removed]",
      "text/plain": [
       "<Figure size 864x144 with 1 Axes>"
      ]
     },
     "metadata": {
      "needs_background": "light"
     },
     "output_type": "display_data"
    }
   ],
   "source": [
    "# Plot to see if outliers have been removed: \n",
    "# whis=multiplicative factor.\n",
    "fig = plt.subplots(figsize=(12, 2))\n",
    "\n",
    "ax = sns.boxplot(x=df_2_non_outlier['price'],whis=1.5)"
   ]
  },
  {
   "cell_type": "markdown",
   "id": "40247699",
   "metadata": {},
   "source": [
    "### 3-bedrooms"
   ]
  },
  {
   "cell_type": "code",
   "execution_count": 19,
   "id": "65145d6e",
   "metadata": {},
   "outputs": [
    {
     "data": {
      "image/png": "[encoded data removed]",
      "text/plain": [
       "<Figure size 1296x288 with 1 Axes>"
      ]
     },
     "metadata": {
      "needs_background": "light"
     },
     "output_type": "display_data"
    }
   ],
   "source": [
    "# Create a boxplot for 3 bedroom.\n",
    "# Set figure size.\n",
    "fig = plt.figure(figsize=(18, 4))\n",
    "\n",
    "# Create a boxplot.\n",
    "ax = sns.boxplot(x=df_3['price'], whis=1.5)"
   ]
  },
  {
   "cell_type": "code",
   "execution_count": 23,
   "id": "d5d08968",
   "metadata": {},
   "outputs": [
    {
     "data": {
      "text/plain": [
       "price    177500.0\n",
       "dtype: float64"
      ]
     },
     "execution_count": 23,
     "metadata": {},
     "output_type": "execute_result"
    },
    {
     "data": {
      "text/plain": [
       "(11254, 4)"
      ]
     },
     "execution_count": 23,
     "metadata": {},
     "output_type": "execute_result"
    }
   ],
   "source": [
    "# The columns you want to search for outliers in.\n",
    "cols = ['price'] \n",
    "\n",
    "# Calculate quantiles and IQR.\n",
    "# Same as np.percentile but maps (0,1) and not (0,100).\n",
    "Q1 = df_3[cols].quantile(0.25) \n",
    "Q3 = df_3[cols].quantile(0.75)\n",
    "IQR = Q3 - Q1\n",
    "IQR\n",
    "\n",
    "# Return a Boolean array of the rows with (any) non-outlier column values.\n",
    "condition = ~((df_3[cols] < (Q1 - 1.5 * IQR)) | (df_3[cols] > (Q3 + 1.5 * IQR))).any(axis=1)\n",
    "\n",
    "# Filter our DataFrame based on condition.\n",
    "df_3_non_outlier = df_3[condition]\n",
    "df_3_non_outlier.shape"
   ]
  },
  {
   "cell_type": "code",
   "execution_count": 28,
   "id": "7e18bf02",
   "metadata": {},
   "outputs": [
    {
     "data": {
      "image/png": "[encoded data removed]",
      "text/plain": [
       "<Figure size 864x144 with 1 Axes>"
      ]
     },
     "metadata": {
      "needs_background": "light"
     },
     "output_type": "display_data"
    }
   ],
   "source": [
    "# Plot to see if outliers have been removed: \n",
    "# whis=multiplicative factor.\n",
    "fig = plt.subplots(figsize=(12, 2))\n",
    "\n",
    "ax = sns.boxplot(x=df_3_non_outlier['price'],whis=1.5)"
   ]
  },
  {
   "cell_type": "markdown",
   "id": "e240fafa",
   "metadata": {},
   "source": [
    "### 4-bedrooms"
   ]
  },
  {
   "cell_type": "code",
   "execution_count": 20,
   "id": "9dc3a975",
   "metadata": {},
   "outputs": [
    {
     "data": {
      "image/png": "[encoded data removed]",
      "text/plain": [
       "<Figure size 1296x288 with 1 Axes>"
      ]
     },
     "metadata": {
      "needs_background": "light"
     },
     "output_type": "display_data"
    }
   ],
   "source": [
    "# Create a boxplot for 4 bedroom.\n",
    "# Set figure size.\n",
    "fig = plt.figure(figsize=(18, 4))\n",
    "\n",
    "# Create a boxplot.\n",
    "ax = sns.boxplot(x=df_4['price'], whis=1.5)"
   ]
  },
  {
   "cell_type": "code",
   "execution_count": 24,
   "id": "38a3bf56",
   "metadata": {},
   "outputs": [
    {
     "data": {
      "text/plain": [
       "price    230500.0\n",
       "dtype: float64"
      ]
     },
     "execution_count": 24,
     "metadata": {},
     "output_type": "execute_result"
    },
    {
     "data": {
      "text/plain": [
       "(9772, 4)"
      ]
     },
     "execution_count": 24,
     "metadata": {},
     "output_type": "execute_result"
    }
   ],
   "source": [
    "# The columns you want to search for outliers in.\n",
    "cols = ['price'] \n",
    "\n",
    "# Calculate quantiles and IQR.\n",
    "# Same as np.percentile but maps (0,1) and not (0,100).\n",
    "Q1 = df_4[cols].quantile(0.25) \n",
    "Q3 = df_4[cols].quantile(0.75)\n",
    "IQR = Q3 - Q1\n",
    "IQR\n",
    "\n",
    "# Return a Boolean array of the rows with (any) non-outlier column values.\n",
    "condition = ~((df_4[cols] < (Q1 - 1.5 * IQR)) | (df_4[cols] > (Q3 + 1.5 * IQR))).any(axis=1)\n",
    "\n",
    "# Filter our DataFrame based on condition.\n",
    "df_4_non_outlier = df_4[condition]\n",
    "df_4_non_outlier.shape"
   ]
  },
  {
   "cell_type": "code",
   "execution_count": 29,
   "id": "48d767e2",
   "metadata": {},
   "outputs": [
    {
     "data": {
      "image/png": "[encoded data removed]",
      "text/plain": [
       "<Figure size 864x144 with 1 Axes>"
      ]
     },
     "metadata": {
      "needs_background": "light"
     },
     "output_type": "display_data"
    }
   ],
   "source": [
    "# Plot to see if outliers have been removed: \n",
    "# whis=multiplicative factor.\n",
    "fig = plt.subplots(figsize=(12, 2))\n",
    "\n",
    "ax = sns.boxplot(x=df_4_non_outlier['price'],whis=1.5)"
   ]
  },
  {
   "cell_type": "markdown",
   "id": "0a3ee4d6",
   "metadata": {},
   "source": [
    "### 5-bedrooms"
   ]
  },
  {
   "cell_type": "code",
   "execution_count": 21,
   "id": "9ef3c4dd",
   "metadata": {
    "scrolled": true
   },
   "outputs": [
    {
     "data": {
      "image/png": "[encoded data removed]",
      "text/plain": [
       "<Figure size 1296x288 with 1 Axes>"
      ]
     },
     "metadata": {
      "needs_background": "light"
     },
     "output_type": "display_data"
    }
   ],
   "source": [
    "# Create a boxplot for 5 bedroom.\n",
    "# Set figure size.\n",
    "fig = plt.figure(figsize=(18, 4))\n",
    "\n",
    "# Create a boxplot.\n",
    "ax = sns.boxplot(x=df_5['price'], whis=1.5)"
   ]
  },
  {
   "cell_type": "code",
   "execution_count": null,
   "id": "7fe6b587",
   "metadata": {},
   "outputs": [],
   "source": [
    "# The columns you want to search for outliers in.\n",
    "cols = ['price'] \n",
    "\n",
    "# Calculate quantiles and IQR.\n",
    "# Same as np.percentile but maps (0,1) and not (0,100).\n",
    "Q1 = df_5[cols].quantile(0.25) \n",
    "Q3 = df_5[cols].quantile(0.75)\n",
    "IQR = Q3 - Q1\n",
    "IQR\n",
    "\n",
    "# Return a Boolean array of the rows with (any) non-outlier column values.\n",
    "condition = ~((df_5[cols] < (Q1 - 1.5 * IQR)) | (df_5[cols] > (Q3 + 1.5 * IQR))).any(axis=1)\n",
    "\n",
    "# Filter our DataFrame based on condition.\n",
    "df_5_non_outlier = df_5[condition]\n",
    "df_5_non_outlier.shape"
   ]
  },
  {
   "cell_type": "code",
   "execution_count": 30,
   "id": "3f5680b7",
   "metadata": {},
   "outputs": [
    {
     "data": {
      "image/png": "[encoded data removed]",
      "text/plain": [
       "<Figure size 864x144 with 1 Axes>"
      ]
     },
     "metadata": {
      "needs_background": "light"
     },
     "output_type": "display_data"
    }
   ],
   "source": [
    "# Plot to see if outliers have been removed: \n",
    "# whis=multiplicative factor.\n",
    "fig = plt.subplots(figsize=(12, 2))\n",
    "\n",
    "ax = sns.boxplot(x=df_5_non_outlier['price'],whis=1.5)"
   ]
  },
  {
   "cell_type": "markdown",
   "id": "0cbb1cbc",
   "metadata": {},
   "source": [
    "----"
   ]
  },
  {
   "cell_type": "code",
   "execution_count": null,
   "id": "23a4dbe4",
   "metadata": {},
   "outputs": [],
   "source": []
  }
 ],
 "metadata": {
  "kernelspec": {
   "display_name": "Python 3 (ipykernel)",
   "language": "python",
   "name": "python3"
  },
  "language_info": {
   "codemirror_mode": {
    "name": "ipython",
    "version": 3
   },
   "file_extension": ".py",
   "mimetype": "text/x-python",
   "name": "python",
   "nbconvert_exporter": "python",
   "pygments_lexer": "ipython3",
   "version": "3.9.12"
  }
 },
 "nbformat": 4,
 "nbformat_minor": 5
}
